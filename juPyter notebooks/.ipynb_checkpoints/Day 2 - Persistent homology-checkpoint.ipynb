{
 "cells": [
  {
   "cell_type": "markdown",
   "id": "ec71e075",
   "metadata": {},
   "source": [
    "# Persistent Homology\n",
    "\n",
    "### MSRI-UP 2023\n",
    "\n",
    "Authors: Jose Perea \n",
    "\n",
    "Date: 06/13/2023\n",
    "\n",
    "\n",
    "---\n"
   ]
  },
  {
   "cell_type": "code",
   "execution_count": null,
   "id": "c2709dfc",
   "metadata": {},
   "outputs": [],
   "source": [
    "import time\n",
    "import numpy as np\n",
    "from scipy.spatial import distance\n",
    "\n",
    "#topological data analysis\n",
    "from ripser import ripser\n",
    "from persim import plot_diagrams\n",
    "\n",
    "#plotting and visualization\n",
    "import plotly.graph_objects as go\n",
    "from plotly.subplots import make_subplots\n",
    "from matplotlib.patches import Circle\n",
    "\n",
    "import matplotlib.pyplot as plt\n",
    "%matplotlib inline"
   ]
  },
  {
   "cell_type": "code",
   "execution_count": null,
   "id": "648f2889",
   "metadata": {},
   "outputs": [],
   "source": [
    "# Helper functions\n",
    " \n",
    "def maxmin(dist_matrix, n):\n",
    "    '''\n",
    "    Given a distance matrix retunrs a maxmin subsampling and the covering radious \n",
    "    corresponding to the subsampled set.\n",
    "    \n",
    "    :param dist_matrix: Distance matrix\n",
    "    :param n: Size of subsample set.\n",
    "    :returns L: List of indices corresponding to the subsample set.\n",
    "    :return cr: Covering radious for the subsample set.\n",
    "    '''\n",
    "    L = [np.random.randint(0,len(dist_matrix))]\n",
    "    \n",
    "    dist_to_L = dist_matrix[ L[-1] ,:]\n",
    "    \n",
    "    for i in range(n-1):\n",
    "        ind = np.argmax( dist_to_L )\n",
    "        L.append(ind)\n",
    "        \n",
    "        dist_to_L = np.minimum(dist_to_L, dist_matrix[L[-1], :])\n",
    "        \n",
    "    cr = np.max(dist_to_L)\n",
    "\n",
    "    return L, cr\n",
    "\n",
    "def uniform_sampling(dist_matrix, n):\n",
    "    '''\n",
    "    Given a distance matrix retunrs an subsamplig that preserves the distribution of the original data set \n",
    "    and the covering radious corresponding to the subsampled set.\n",
    "    \n",
    "    :param dist_matrix: Distance matrix\n",
    "    :param n: Size of subsample set.\n",
    "    :returns L: List of indices corresponding to the subsample set.\n",
    "    :return cr: Covering radious for the subsample set.\n",
    "    '''\n",
    "    num_points = dist_matrix.shape[0]\n",
    "    \n",
    "    L = np.random.choice(num_points, n)\n",
    "    \n",
    "    dist_to_L = np.min(dist_matrix[L,:], axis=0)\n",
    "    \n",
    "    return L, np.max(dist_to_L)\n",
    "\n",
    "def plot_barcodes(diagrams, alpha_max, width = 1.5):\n",
    "    max_dim = len(diagrams)\n",
    "    fig, axs = plt.subplots(max_dim)\n",
    "    fig.suptitle('Barcodes')\n",
    "    for dim in range(max_dim):\n",
    "        barcode = np.copy(diagrams[dim])\n",
    "        ind_inf = np.isinf(barcode.T[1])\n",
    "        barcode[ind_inf, 1] = alpha_max\n",
    "        h = 1\n",
    "        for i in range(len(barcode)):\n",
    "            x = barcode[i]\n",
    "            y = [h,h]\n",
    "            axs[dim].plot(x, y, linestyle= '-', c='#1f77b4', linewidth = width)\n",
    "            if ind_inf[i]:\n",
    "                axs[dim].scatter([alpha_max],[h],  s=10, marker='>', c='#1f77b4')\n",
    "            h += 1\n",
    "        axs[dim].set_xlim(0, 1.05*alpha_max)\n",
    "        axs[dim].set_ylim(0,h)\n",
    "        axs[dim].get_yaxis().set_ticks([]);\n",
    "        axs[dim].spines['right'].set_color('none')\n",
    "        axs[dim].spines['top'].set_color('none')\n",
    "        axs[dim].text(0.3,1,'$\\mathrm{bcd}^{\\mathcal{R}}_{'+str(dim)+'}(X)$', verticalalignment='bottom')"
   ]
  },
  {
   "cell_type": "markdown",
   "id": "736f5ce4",
   "metadata": {},
   "source": [
    "---\n",
    "\n",
    "### Toy example dataset"
   ]
  },
  {
   "cell_type": "code",
   "execution_count": null,
   "id": "1f7eb380",
   "metadata": {},
   "outputs": [],
   "source": [
    "np.random.seed(1223)\n",
    "\n",
    "n_data = 30\n",
    "theta = np.random.uniform(0, 2*np.pi, n_data)\n",
    "data = np.array([np.cos(theta) , np.sin(theta) , np.zeros_like(theta)])\n",
    "data += np.random.normal(0, 0.08, data.shape)\n",
    "\n",
    "fig = go.Figure(data=[go.Scatter3d(\n",
    "    x=data[0], y=data[1], z=data[2], \n",
    "    mode ='markers', \n",
    "    marker=dict(size = 3 , color = 'grey'))])\n",
    "\n",
    "fig.update_layout(scene= dict(zaxis = dict(range=[-1, 1])))\n",
    "fig.show()"
   ]
  },
  {
   "cell_type": "markdown",
   "id": "314298e2",
   "metadata": {},
   "source": [
    "### Rips Filtration\n",
    "\n",
    "Given a dataset $(X,\\mathbf{d}_X)$, its Rips filtration is defined as:\n",
    "\n",
    "$$\\mathcal{R}(X) = \\Big\\{\\, i_{\\alpha',\\alpha}: R_\\alpha(X) \\hookrightarrow R_{\\alpha'} (X)\\, \\Big\\}_{0 < \\alpha\\leq \\alpha'} $$\n",
    "where\n",
    "$$R_\\alpha(X) = \\Big\\{\\, \\sigma \\subset X \\mid 0 < \\#(\\sigma) < \\infty \\;\\mbox{ and }\\; \\mathsf{diam}(\\sigma) < \\alpha\\, \\Big\\} $$\n",
    "\n",
    "**Do:** Use the cell below to visualize the Rips complex of the provided dataset at various distance (filtration) thresholds."
   ]
  },
  {
   "cell_type": "code",
   "execution_count": null,
   "id": "ecee119d",
   "metadata": {},
   "outputs": [],
   "source": [
    "alpha = 0.7\n",
    "distMat = distance.squareform(distance.pdist(data.T))\n",
    "\n",
    "ii = []; jj = []; kk = []\n",
    "e_x =[]; e_y =[]; e_z =[]\n",
    "\n",
    "for i in range(n_data):\n",
    "    for j in range(i+1,n_data):\n",
    "        if distMat[i,j] < alpha:\n",
    "            # add edge (i,j)\n",
    "            e_x.extend([data[0,i], data[0,j], None])\n",
    "            e_y.extend([data[1,i], data[1,j], None])\n",
    "            e_z.extend([data[2,i], data[2,j], None])\n",
    "            \n",
    "            for k in range(j+1,n_data):\n",
    "                if np.max([distMat[j,k], distMat[i,k]]) < alpha:\n",
    "                    # add triangle (i,j,k)\n",
    "                    ii.append(i); jj.append(j); kk.append(k)\n",
    "                \n",
    "vertices = go.Scatter3d(mode = 'markers', name = 'vertices', \n",
    "                        x = data[0], y = data[1],  z = data[2], \n",
    "                        marker=dict(size = 3 , color = 'grey'))\n",
    "\n",
    "edges = go.Scatter3d(mode='lines', name = 'edges', \n",
    "                     x=e_x, y=e_y, z=e_z, \n",
    "                     line=dict(color= 'rgb(70,70,70)', width=1))  \n",
    "\n",
    "triangles = go.Mesh3d(x=data[0], y=data[1], z=data[2],  i = ii, j = jj, k = kk,  color='lightpink', opacity=0.2)\n",
    "\n",
    "fig = go.Figure(data=[vertices, edges, triangles])\n",
    "fig.update_traces(hoverinfo=\"none\")\n",
    "fig.update_layout(scene= dict(\n",
    "                      xaxis = dict(showspikes=False), \n",
    "                      yaxis = dict(showspikes=False), \n",
    "                      zaxis = dict(showspikes=False,range=[-1, 1])))\n",
    "fig.show()"
   ]
  },
  {
   "cell_type": "markdown",
   "id": "063352ef",
   "metadata": {},
   "source": [
    "**Question:** At what filtration scale is the circle created? At what scale is it filled in? \n",
    "\n",
    "**Your answer:**\n",
    "\n",
    "---"
   ]
  },
  {
   "cell_type": "markdown",
   "id": "9ff3c52a",
   "metadata": {},
   "source": [
    "### Computing Persistence via Ripser\n",
    "\n",
    "U. Bauer: \"Ripser is a lean C++ code for the computation of Vietoris–Rips persistence barcodes. It can do just this one thing, but does it extremely well.\"\n",
    "\n",
    "Original C++ library : https://github.com/Ripser/ripser\n",
    "\n",
    "Accompanying paper : https://arxiv.org/pdf/1908.02518.pdf\n",
    "\n",
    "Python library: https://ripser.scikit-tda.org/en/latest\n"
   ]
  },
  {
   "cell_type": "code",
   "execution_count": null,
   "id": "33d803dc",
   "metadata": {},
   "outputs": [],
   "source": [
    "# Persistence Computation\n",
    "start_time = time.time()\n",
    "rips_persistence = ripser(data.T, maxdim=1)\n",
    "print(\"--- %s seconds ---\" % (time.time() - start_time))\n",
    "\n",
    "dgms = rips_persistence['dgms']\n",
    "plot_barcodes(dgms,1.8);"
   ]
  },
  {
   "cell_type": "code",
   "execution_count": null,
   "id": "2e13e265",
   "metadata": {},
   "outputs": [],
   "source": [
    "plt.figure(figsize = (5,5)) \n",
    "plot_diagrams(dgms, title='Persistence Diagrams')"
   ]
  },
  {
   "cell_type": "markdown",
   "id": "cae8abfb",
   "metadata": {},
   "source": [
    "### Persistence is stable with respect to Hausdorff Noise\n",
    "\n",
    "**Theorem** (Stability): Let $(\\mathbb{M}, d_\\mathbb{M})$ be a metric space and let $X,Y \\subset \\mathbb{M}$. Then for all $j > 0$ and every field $\\mathbb{F}$, \n",
    "\n",
    "$$ d_B\\left(\\mathsf{dgm}_j^\\mathcal{R}(X; \\mathbb{F}) , \\mathsf{dgm}_j^\\mathcal{R}(Y; \\mathbb{F})\\right) \\leq 2 d_H^\\mathbb{M}(X,Y) $$ "
   ]
  },
  {
   "cell_type": "code",
   "execution_count": null,
   "id": "042011b8",
   "metadata": {},
   "outputs": [],
   "source": [
    "np.random.seed(2)\n",
    "\n",
    "# Generate angles uniformly between 0 and 2pi\n",
    "n_data = 400\n",
    "theta = np.random.uniform(0, 2*np.pi, n_data)\n",
    "\n",
    "# Generate radii with Gaussian noise centered at 1 and variance sigma\n",
    "sigma = 0.1\n",
    "r = np.random.normal(1, sigma , n_data)\n",
    "X = np.array([ np.cos(theta) , np.sin(theta)]) \n",
    "Y = r*X\n",
    "X = X.T\n",
    "Y = Y.T\n",
    "\n",
    "plt.figure(figsize = (5,5)) \n",
    "plt.scatter(X[:,0], X[:,1], s = 2 , label = 'data');\n",
    "plt.scatter(Y[:,0], Y[:,1], s = 2, c='black' , label = 'noisy sample');\n",
    "plt.legend(loc = 'lower right')\n",
    "plt.axis('square');"
   ]
  },
  {
   "cell_type": "code",
   "execution_count": null,
   "id": "b168ba7c",
   "metadata": {},
   "outputs": [],
   "source": [
    "# Hausdorff distance\n",
    "\n",
    "d_XY =  np.max(np.min(distance.cdist(X,Y), axis = 0))\n",
    "d_YX =  np.max(np.min(distance.cdist(X,Y), axis = 1))\n",
    "\n",
    "print( 'd_H(X,Y) = ',np.max( [d_XY, d_YX])  )"
   ]
  },
  {
   "cell_type": "code",
   "execution_count": null,
   "id": "b18850ca",
   "metadata": {},
   "outputs": [],
   "source": [
    "q = 2\n",
    " \n",
    "PH_X = ripser(X, coeff=q )\n",
    "PH_Y = ripser(Y, coeff=q )\n",
    "\n",
    "plt.figure(figsize = (8,3)) \n",
    "plt.subplot(1,2,1)\n",
    "plot_diagrams(PH_X['dgms'])\n",
    "x_left, x_right = plt.xlim()\n",
    "y_left, y_right = plt.ylim()\n",
    "plt.title('$\\mathsf{dgm}^\\mathcal{R}_{*}(X; \\mathbb{Z}_{' + str(q) +'})$');\n",
    "\n",
    "plt.subplot(1,2,2)\n",
    "plot_diagrams(PH_Y['dgms'],  xy_range  = [x_left, x_right, y_left, y_right] )\n",
    "plt.title('$\\mathsf{dgm}^\\mathcal{R}_{*}(Y; \\mathbb{Z}_{' + str(q) +'})$');\n",
    "\n",
    "plt.show()\n",
    " "
   ]
  },
  {
   "cell_type": "markdown",
   "id": "8df3326a",
   "metadata": {},
   "source": [
    "## Sampling is a good idea\n",
    "\n",
    "If the dataset $(X,\\mathbf{d}_X)$  is too large -- that is, if $N = \\#(X)>>1$ -- then the persistence computation can be very slow. We will explore two strategies to get around this:  \n",
    "\n",
    "#### Uniform  subsample:\n",
    "\n",
    "Having indexed the points of $X$ arbitrarily as $X = \\{x_1, \\ldots, x_N\\}$, choose indices $\\{n_1, \\ldots , n_k\\} \\subset \\{1,\\ldots, N\\}$ uniformly at random (without replacement). Let $\\tilde{X} = \\{x_{n_1}, \\ldots, x_{n_k}\\} \\subset X$ be the subsample.\n",
    "\n",
    "\n",
    "#### MaxMin sampling:\n",
    "\n",
    "Choose $x_1 \\in X$ uniformly at random, and given $x_1,\\ldots, x_{j} \\in X$, let \n",
    "$$\n",
    "x_{j+1} = \\underset{x \\in X}{\\mathsf{argmax}} \\,  \\mathsf{min} \\Big\\{ \\mathbf{d}_X(x_1, x) ,\\ldots, \\mathbf{d}_X(x_j, x)\\Big\\}\n",
    "$$\n",
    "stopping after $k$ iterations yields the subsample $\\tilde{X} = \\{x_1,\\ldots, x_k\\}$.\n",
    "\n",
    "The stability theorem  implies that these are good ideas: If $X$ and $\\tilde{X}$ are close in Hausdorff distance, then their diagrams will be close in Bottleneck distance. "
   ]
  },
  {
   "cell_type": "code",
   "execution_count": null,
   "id": "b7873639",
   "metadata": {},
   "outputs": [],
   "source": [
    "# Generate data around the unit circle\n",
    "np.random.seed(2)\n",
    "\n",
    "# Generate angles uniformly between 0 and 2pi\n",
    "n_data = 800\n",
    "theta = np.random.uniform(0, 2*np.pi, n_data)\n",
    "\n",
    "# Generate radii with Gaussian noise centered at 1 and variance sigma\n",
    "sigma = 0.1\n",
    "r = np.random.normal(1, sigma , n_data)\n",
    "\n",
    "X = r*np.array([ np.cos(theta) , np.sin(theta)]) \n",
    "X = X.T\n",
    "\n",
    "# Plot data set X\n",
    "plt.figure(figsize = (4,4))\n",
    "plt.scatter(X[:,0], X[:,1], s = 2 );\n",
    "plt.title('$X$')\n",
    "plt.axis('square');"
   ]
  },
  {
   "cell_type": "markdown",
   "id": "2a4a716f",
   "metadata": {},
   "source": [
    "**Uniform sample**:"
   ]
  },
  {
   "cell_type": "code",
   "execution_count": null,
   "id": "f4ff7234",
   "metadata": {},
   "outputs": [],
   "source": [
    "# Compute the distance matrix for the data set X using auclidean distance.\n",
    "dm_X = distance.cdist(X,X)\n",
    "\n",
    "# Subsample the data using uniform sampling\n",
    "np.random.seed(2) # Comment out to get different samples\n",
    "n_landmarks = 40 # number of points in uniform sample\n",
    "\n",
    "ind_Y, cover_r = uniform_sampling(dm_X, n_landmarks)\n",
    "Y = X[ind_Y]\n",
    "\n",
    "# scatter plot the landmark subset\n",
    "fig, ax = plt.subplots(figsize = (8,8))\n",
    "plt.scatter(X.T[0], X.T[1], s = 2)\n",
    "plt.scatter(Y.T[0], Y.T[1], s = 5, c='red')\n",
    "\n",
    "# Plot balls or radious defined by the covering radious of the landmark set\n",
    "for i in range(n_landmarks):\n",
    "    cir = Circle((Y[i,0], Y[i,1]), cover_r, color=(0,0,0,0.05))\n",
    "    ax.add_patch(cir)\n",
    "ax.set_ylim(-1-2*cover_r,1+2*cover_r);\n",
    "ax.set_xlim(-1-2*cover_r,1+2*cover_r);\n",
    "\n",
    "r_Y = cover_r\n",
    "print('d_H(X,Y) =',  r_Y)"
   ]
  },
  {
   "cell_type": "code",
   "execution_count": null,
   "id": "d5e2f7a3",
   "metadata": {},
   "outputs": [],
   "source": [
    "q = 2\n",
    "\n",
    "start_time = time.time()\n",
    "PH_X = ripser(X, coeff=q )\n",
    "X_time = time.time() - start_time\n",
    "\n",
    "start_time = time.time()\n",
    "PH_Y = ripser(Y, coeff=q )\n",
    "Y_time = time.time() - start_time\n",
    "print(\"--- PH_X_time = %s seconds ---\" % (X_time))\n",
    "print(\"--- PH_Y_time = %s seconds ---\" % (Y_time))\n"
   ]
  },
  {
   "cell_type": "code",
   "execution_count": null,
   "id": "16bce4f5",
   "metadata": {},
   "outputs": [],
   "source": [
    "plt.figure(figsize = (8,3)) \n",
    "plt.subplot(1,2,2)\n",
    "plot_diagrams(PH_Y['dgms'])\n",
    "plt.title('$\\mathsf{dgm}^\\mathcal{R}_{*}(Y; \\mathbb{Z}_{' + str(q) +'})$');\n",
    "x_left, x_right = plt.xlim()\n",
    "y_left, y_right = plt.ylim()\n",
    "\n",
    "plt.subplot(1,2,1)\n",
    "plot_diagrams(PH_X['dgms'], xy_range  = [x_left, x_right, y_left, y_right] )\n",
    "plt.title('$\\mathsf{dgm}^\\mathcal{R}_{*}(X; \\mathbb{Z}_{' + str(q) +'})$');\n",
    "plt.show()"
   ]
  },
  {
   "cell_type": "markdown",
   "id": "d2b32d97",
   "metadata": {},
   "source": [
    "**Maxmin sampling:**"
   ]
  },
  {
   "cell_type": "code",
   "execution_count": null,
   "id": "dd542dd3",
   "metadata": {},
   "outputs": [],
   "source": [
    "# Subsample the data using MaxMin sampling\n",
    "np.random.seed(2) # Comment out to get different samples\n",
    "ind_M, cover_r = maxmin(dm_X, n_landmarks)\n",
    "M = X[ind_M]\n",
    "\n",
    "# scatter plot the landmark subset\n",
    "fig, ax = plt.subplots(figsize = (4,4))\n",
    "plt.scatter(X.T[0], X.T[1], s = 2)\n",
    "plt.scatter(M.T[0], M.T[1], s = 5, c='red')\n",
    "\n",
    "# Plot balls or radious defined by the covering radious of the landmark set\n",
    "for i in range(n_landmarks):\n",
    "    cir = Circle((M[i,0], M[i,1]), cover_r, color=(0,0,0,0.05))\n",
    "    ax.add_patch(cir)\n",
    "ax.set_ylim(-1-2*cover_r,1+2*cover_r);\n",
    "ax.set_xlim(-1-2*cover_r,1+2*cover_r);\n",
    "\n",
    "print('Distance from data to uniform sample, d_H(X,Y) =', r_Y)\n",
    "print('Distance from data to maxmin sample, d_H(X,M) =',  cover_r)"
   ]
  },
  {
   "cell_type": "code",
   "execution_count": null,
   "id": "ce1906ac",
   "metadata": {},
   "outputs": [],
   "source": [
    "q = 2\n",
    "start_time = time.time()\n",
    "PH_M= ripser(M, coeff=q )\n",
    "print(\"--- %s seconds ---\" % (time.time() - start_time))\n"
   ]
  },
  {
   "cell_type": "code",
   "execution_count": null,
   "id": "3588f1ab",
   "metadata": {},
   "outputs": [],
   "source": [
    "plt.figure(figsize = (12,3)) \n",
    "plt.subplot(1,3,2)\n",
    "plot_diagrams(PH_Y['dgms'])\n",
    "plt.title('$\\mathsf{dgm}^\\mathcal{R}_{*}(Y; \\mathbb{Z}_{' + str(q) +'})$');\n",
    "x_left, x_right = plt.xlim()\n",
    "y_left, y_right = plt.ylim()\n",
    "\n",
    "plt.subplot(1,3,1)\n",
    "plot_diagrams(PH_X['dgms'], xy_range  = [x_left, x_right, y_left, y_right] )\n",
    "plt.title('$\\mathsf{dgm}^\\mathcal{R}_{*}(X; \\mathbb{Z}_{' + str(q) +'})$');\n",
    "\n",
    "plt.subplot(1,3,3)\n",
    "plot_diagrams(PH_M['dgms'], xy_range  = [x_left, x_right, y_left, y_right] )\n",
    "plt.title('$\\mathsf{dgm}^\\mathcal{R}_{*}(M; \\mathbb{Z}_{' + str(q) +'})$');\n",
    "plt.show()"
   ]
  },
  {
   "cell_type": "markdown",
   "id": "2a5e0b08",
   "metadata": {},
   "source": [
    "---\n",
    "\n",
    "## Activity: \n",
    "\n",
    "The goal of this experiment is to explore the effect that data size has on the computation time of persistent homology.\n",
    "\n",
    "1. Select subsamples of different sizes, say from 5 to 500 in increments of 5.\n",
    "2. Compute persistent homology for each subsample set generated, and compute the time ripser takes to compute persistent homology in each case.  \n",
    "3. Plot sample size vs time and explain the effect the sample size has on the computation time."
   ]
  },
  {
   "cell_type": "code",
   "execution_count": null,
   "id": "1a432fc7",
   "metadata": {},
   "outputs": [],
   "source": [
    "# Your asnwer here\n",
    "\n",
    "\n",
    "\n"
   ]
  },
  {
   "cell_type": "markdown",
   "id": "95fdaca4",
   "metadata": {},
   "source": [
    "---"
   ]
  },
  {
   "cell_type": "markdown",
   "id": "31a2d590",
   "metadata": {},
   "source": [
    "### Hausdorff vs Non-Hausdorff Noise"
   ]
  },
  {
   "cell_type": "code",
   "execution_count": null,
   "id": "0374110f",
   "metadata": {},
   "outputs": [],
   "source": [
    "n_noise = 10\n",
    "np.random.seed(2)\n",
    "theta = np.random.uniform(0, 2*np.pi, n_noise)\n",
    "\n",
    "# Generate radii with Gaussian noise centered at 1 and variance sigma\n",
    "r = np.random.uniform(-1, 1 , n_noise)\n",
    "\n",
    "D = r*np.array([ np.cos(theta) , np.sin(theta)]) \n",
    "D = D.T\n",
    "\n",
    "Y = np.vstack((X,D))\n",
    "\n",
    "# Plot data set X\n",
    "\n",
    "plt.figure(figsize = (8,3)) \n",
    "plt.subplot(1,2,1)\n",
    "plt.scatter(X[:,0], X[:,1], s = 2 );\n",
    "plt.title('$X$')\n",
    "plt.axis('square');\n",
    "\n",
    "plt.subplot(1,2,2)\n",
    "plt.scatter(Y[:,0], Y[:,1], s = 2 );\n",
    "plt.title('$Y$')\n",
    "plt.axis('square');\n"
   ]
  },
  {
   "cell_type": "code",
   "execution_count": null,
   "id": "67817689",
   "metadata": {},
   "outputs": [],
   "source": [
    "# Hausdorff distance\n",
    "\n",
    "d_XY =  np.max(np.min(distance.cdist(X,Y), axis = 0))\n",
    "d_YX =  np.max(np.min(distance.cdist(X,Y), axis = 1))\n",
    "\n",
    "print( 'd_H(X,Y) = ',np.max( [d_XY, d_YX])  )"
   ]
  },
  {
   "cell_type": "code",
   "execution_count": null,
   "id": "74d392f2",
   "metadata": {},
   "outputs": [],
   "source": [
    "#Persistence computation\n",
    "PH_Y = ripser(Y, coeff=q )\n",
    "\n",
    "plt.figure(figsize = (8,3)) \n",
    "plt.subplot(1,2,1)\n",
    "plot_diagrams(PH_X['dgms'])\n",
    "x_left, x_right = plt.xlim()\n",
    "y_left, y_right = plt.ylim()\n",
    "plt.title('$\\mathsf{dgm}^\\mathcal{R}_{*}(X; \\mathbb{Z}_{' + str(q) +'})$');\n",
    "\n",
    "plt.subplot(1,2,2)\n",
    "plot_diagrams(PH_Y['dgms'],  xy_range  = [x_left, x_right, y_left, y_right] )\n",
    "plt.title('$\\mathsf{dgm}^\\mathcal{R}_{*}(Y; \\mathbb{Z}_{' + str(q) +'})$');\n",
    "\n",
    "plt.show()\n",
    " "
   ]
  },
  {
   "cell_type": "markdown",
   "id": "a073b27d",
   "metadata": {},
   "source": [
    "---"
   ]
  },
  {
   "cell_type": "markdown",
   "id": "4a4c5510",
   "metadata": {},
   "source": [
    "**Question:** Is persistence stable with respect to outliers (non-Hausdorff noise)? \n",
    "\n",
    "**Your answer:**\n",
    "\n",
    "---"
   ]
  },
  {
   "cell_type": "markdown",
   "id": "4e09bf77",
   "metadata": {},
   "source": [
    "### Data Example: Trefoil Knot"
   ]
  },
  {
   "cell_type": "code",
   "execution_count": null,
   "id": "e6a7d55e",
   "metadata": {},
   "outputs": [],
   "source": [
    "# Setup trefoil knot data\n",
    "np.random.seed(1122)\n",
    "n_data = 5000\n",
    "\n",
    "u = 4*np.pi*np.random.rand(n_data)\n",
    "v = 2*np.pi*np.random.rand(n_data)\n",
    "data = np.zeros((3,n_data))\n",
    "\n",
    "data[0] = np.cos(u)*np.cos(v) + 6*np.cos(u)*(1.5+np.sin(1.5*u)/2)\n",
    "data[1] = np.sin(u)*np.cos(v) + 6*np.sin(u)*(1.5+np.sin(1.5*u)/2)\n",
    "data[2] = np.sin(v) + 4*np.cos(1.5*u)\n",
    "data += 0.2*np.random.randn(*data.shape)\n",
    "\n",
    "# Plot the data \n",
    "fig = go.Figure(data=[go.Scatter3d(\n",
    "    x=data[0], y=data[1], z=data[2], \n",
    "    mode ='markers', \n",
    "    marker=dict(size = 1.5 , color = 'grey'))])\n",
    "\n",
    "fig.update_layout( width=900, height=450)\n",
    "fig.show()"
   ]
  },
  {
   "cell_type": "code",
   "execution_count": null,
   "id": "c989ccef",
   "metadata": {},
   "outputs": [],
   "source": [
    "# Persistence Computation\n",
    "start_time = time.time()\n",
    "n_landmarks = 200 # number of landmarks to choose using maxmin sampling\n",
    "prime_coeff = 7\n",
    "\n",
    "rips_persistence = ripser(data.T, n_perm = n_landmarks, coeff = prime_coeff, maxdim=1)\n",
    "print(\"--- %s seconds ---\" % (time.time() - start_time))\n",
    "dgms = rips_persistence['dgms']\n",
    "idx_perm = rips_persistence['idx_perm']\n",
    "plt.figure(figsize = (4,4)) \n",
    "plot_diagrams(dgms)"
   ]
  },
  {
   "cell_type": "code",
   "execution_count": null,
   "id": "5979579d",
   "metadata": {},
   "outputs": [],
   "source": [
    "plot_barcodes(dgms, 10, 1)"
   ]
  },
  {
   "cell_type": "markdown",
   "id": "b68f15cc",
   "metadata": {},
   "source": [
    "**Note:** When there are too many intervals, the barcode is not that useful a visualization."
   ]
  },
  {
   "cell_type": "markdown",
   "id": "e73f0ec5",
   "metadata": {},
   "source": [
    "### Data Example: Torus"
   ]
  },
  {
   "cell_type": "code",
   "execution_count": null,
   "id": "e2c090f7",
   "metadata": {},
   "outputs": [],
   "source": [
    "np.random.seed(2)\n",
    "n_data = 25000\n",
    "R = 5\n",
    "r = 2\n",
    "data = np.zeros((3, n_data))\n",
    "s = np.random.rand(n_data)*2*np.pi\n",
    "t = np.random.rand(n_data)*2*np.pi\n",
    "\n",
    "data[0] = (R + r*np.cos(s))*np.cos(t)\n",
    "data[1] = (R + r*np.cos(s))*np.sin(t)\n",
    "data[2] = r*np.sin(s)\n",
    "data += 0.1*np.random.randn(*data.shape)\n",
    "\n",
    "# Plot the data \n",
    "fig = go.Figure(data=[go.Scatter3d(\n",
    "    x=data[0], y=data[1], z=data[2], \n",
    "    mode ='markers', \n",
    "    marker=dict(size = 1.5 , color = 'grey'))])\n",
    "\n",
    "fig.update_layout( width=900, height=450)\n",
    "fig.show()"
   ]
  },
  {
   "cell_type": "code",
   "execution_count": null,
   "id": "6dcb37d3",
   "metadata": {},
   "outputs": [],
   "source": [
    "# Persistence Computation\n",
    "\n",
    "# Persistence Computation\n",
    "start_time = time.time()\n",
    "n_landmarks = 200\n",
    "prime_coeff = 7\n",
    "\n",
    "rips_persistence = ripser(data.T, n_perm = n_landmarks, coeff = prime_coeff, maxdim=2)\n",
    "print(\"--- %s seconds ---\" % (time.time() - start_time))\n",
    "dgms = rips_persistence['dgms']\n",
    "idx_perm = rips_persistence['idx_perm']\n",
    "plt.figure(figsize = (4,4)) \n",
    "plot_diagrams(dgms)"
   ]
  },
  {
   "cell_type": "markdown",
   "id": "2085ce5c",
   "metadata": {},
   "source": [
    "---\n",
    "\n",
    "## Activity: \n",
    "\n",
    "1. Load the mistery data sets\n",
    "2. Compute their persistent homology\n",
    "3. Given the results, what topoloical spaces could they be sampling?"
   ]
  },
  {
   "cell_type": "code",
   "execution_count": null,
   "id": "ca7cbd05",
   "metadata": {},
   "outputs": [],
   "source": [
    "# Your answers here\n",
    "\n",
    "\n",
    "\n",
    "\n"
   ]
  }
 ],
 "metadata": {
  "kernelspec": {
   "display_name": "Python 3 (ipykernel)",
   "language": "python",
   "name": "python3"
  },
  "language_info": {
   "codemirror_mode": {
    "name": "ipython",
    "version": 3
   },
   "file_extension": ".py",
   "mimetype": "text/x-python",
   "name": "python",
   "nbconvert_exporter": "python",
   "pygments_lexer": "ipython3",
   "version": "3.8.16"
  }
 },
 "nbformat": 4,
 "nbformat_minor": 5
}
